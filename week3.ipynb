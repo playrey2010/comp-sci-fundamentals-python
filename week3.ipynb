{
 "cells": [
  {
   "cell_type": "code",
   "execution_count": 39,
   "metadata": {},
   "outputs": [],
   "source": [
    "#items = [\"snacks\", \"clothes\", \"flashlight\", \"water\", \"books\", \"first-aid kit\", \"towel\", \"raincoat\"]\n",
    "\n",
    "\n",
    "# we define our class(blueprint) with two properties\n",
    "class Back_Pack:\n",
    "    MAX_WEIGHT = 15                                         \n",
    "    MAX_SIZE = 4\n",
    "    items = []\n",
    "    \n",
    "    def total_weight(items_list):\n",
    "        total = 0\n",
    "        for item in items_list:\n",
    "            total += item[\"weight\"]\n",
    "        return total\n",
    "    def __str__(self):\n",
    "        return f\"{name}\""
   ]
  },
  {
   "cell_type": "code",
   "execution_count": 40,
   "metadata": {
    "scrolled": true
   },
   "outputs": [],
   "source": [
    "# We instantiate a new object using the Back_Pack class \n",
    "my_back_pack = Back_Pack()\n"
   ]
  },
  {
   "cell_type": "code",
   "execution_count": null,
   "metadata": {},
   "outputs": [],
   "source": []
  },
  {
   "cell_type": "code",
   "execution_count": 41,
   "metadata": {},
   "outputs": [],
   "source": [
    "class Trip_Item:\n",
    "    def __init__(self, name, weight, size):\n",
    "        self.name = name\n",
    "        self.weight = weight\n",
    "        self.size = size # we assign the value of size to self.size\n",
    "trip_item_1 = Trip_Item(\"laptop\",5,2.0)\n",
    "trip_item_2 = Trip_Item(\"snacks\", 0.3, 0.08)\n",
    "trip_item_3 = Trip_Item(\"water\", 0.4, 0.1)\n",
    "trip_item_4 = Trip_Item(\"clothes\", 1.1, 1.0)\n",
    "trip_item_5 = Trip_Item(\"flashlight\", 1.2, 1.0)\n",
    "trip_item_6 = Trip_Item(\"first-aid kit\", 2.0, 1)\n",
    "trip_item_7 = Trip_Item(\"towel\", 0.3, 0.25)\n",
    "trip_item_8 = Trip_Item(\"raincoat\", 1.1, 1.0)\n",
    "trip_items = [trip_item_1, trip_item_2, trip_item_3, trip_item_4, trip_item_5, trip_item_6, trip_item_7, trip_item_8]\n",
    "#put all the items in the backpack\n",
    "for i in trip_items:\n",
    "    my_back_pack.items.append(i)"
   ]
  },
  {
   "cell_type": "code",
   "execution_count": 42,
   "metadata": {},
   "outputs": [
    {
     "name": "stdout",
     "output_type": "stream",
     "text": [
      "[<__main__.Trip_Item object at 0x0000024350C9F828>, <__main__.Trip_Item object at 0x0000024350C9F7B8>, <__main__.Trip_Item object at 0x0000024350C9F780>, <__main__.Trip_Item object at 0x0000024350C9F7F0>, <__main__.Trip_Item object at 0x0000024350C9F6D8>, <__main__.Trip_Item object at 0x0000024350C9F6A0>, <__main__.Trip_Item object at 0x0000024350C9FBA8>, <__main__.Trip_Item object at 0x0000024350C9FF28>]\n"
     ]
    }
   ],
   "source": [
    "print(my_back_pack.items) "
   ]
  },
  {
   "cell_type": "code",
   "execution_count": 43,
   "metadata": {},
   "outputs": [
    {
     "name": "stdout",
     "output_type": "stream",
     "text": [
      "<__main__.Trip_Item object at 0x0000024350C9F828>\n",
      "<__main__.Trip_Item object at 0x0000024350C9F7B8>\n",
      "<__main__.Trip_Item object at 0x0000024350C9F780>\n",
      "<__main__.Trip_Item object at 0x0000024350C9F7F0>\n",
      "<__main__.Trip_Item object at 0x0000024350C9F6D8>\n",
      "<__main__.Trip_Item object at 0x0000024350C9F6A0>\n",
      "<__main__.Trip_Item object at 0x0000024350C9FBA8>\n",
      "<__main__.Trip_Item object at 0x0000024350C9FF28>\n"
     ]
    }
   ],
   "source": [
    "# print out the name of each item in the back-end\n",
    "for i in my_back_pack.items: \n",
    "    print(i)"
   ]
  },
  {
   "cell_type": "code",
   "execution_count": null,
   "metadata": {
    "collapsed": true
   },
   "outputs": [],
   "source": []
  }
 ],
 "metadata": {
  "kernelspec": {
   "display_name": "Python 3",
   "language": "python",
   "name": "python3"
  },
  "language_info": {
   "codemirror_mode": {
    "name": "ipython",
    "version": 3
   },
   "file_extension": ".py",
   "mimetype": "text/x-python",
   "name": "python",
   "nbconvert_exporter": "python",
   "pygments_lexer": "ipython3",
   "version": "3.6.3"
  }
 },
 "nbformat": 4,
 "nbformat_minor": 2
}
